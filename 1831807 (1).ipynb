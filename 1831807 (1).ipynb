{
 "cells": [
  {
   "cell_type": "markdown",
   "metadata": {},
   "source": [
    "# II A"
   ]
  },
  {
   "cell_type": "markdown",
   "metadata": {},
   "source": [
    "In this task we are going to project the Iris dataset onto the two top principal components (PCs). We are first going to tranform the data, extract the top two principal components, and plot them against each other. Finally, we will determing which classes are lineary separable."
   ]
  },
  {
   "cell_type": "code",
   "execution_count": 253,
   "metadata": {
    "scrolled": true
   },
   "outputs": [
    {
     "data": {
      "image/png": "[encoded data removed]",
      "text/plain": [
       "<Figure size 432x288 with 1 Axes>"
      ]
     },
     "metadata": {
      "needs_background": "light"
     },
     "output_type": "display_data"
    }
   ],
   "source": [
    "import pandas as pd\n",
    "import numpy as np\n",
    "import matplotlib.pyplot as plt\n",
    "\n",
    "# Importing the dataset and splitting it into features and targets\n",
    "df=pd.read_csv(r\"C:\\Users\\Yakov\\Downloads\\iris.data\",header=None)\n",
    "y=pd.DataFrame(df.iloc[:,-1])\n",
    "X=df.iloc[:,:-1]\n",
    "X_centred=X-np.mean(X,axis=0) # Centering the data\n",
    "\n",
    "# Calculating the covariance matrix\n",
    "df_m=np.asmatrix(X_centred)\n",
    "cov_mat=np.cov(df_m.T)\n",
    "\n",
    "eigVals, eigVec = np.linalg.eig(cov_mat) # Eigendecompositon of the covaraince matrix\n",
    "\n",
    "# Sorting the eigenvalues and eigenvectors in descending order to determine the highest principal components \n",
    "idx = eigVals.argsort()[::-1] \n",
    "eigVals = eigVals[idx]\n",
    "eigVec = eigVec[:,idx]\n",
    "\n",
    "eigVec2 = eigVec[:,:2] # Selecting first 2 principal components\n",
    "\n",
    "X_trans = df_m.dot(eigVec2) # Reducing the dimension of dataset by transforming the dataset \n",
    "\n",
    "X_pca2 = np.hstack((X_trans, y)) # Combining the transformed dataset with the targets\n",
    "\n",
    "X_pca2 = pd.DataFrame(X_pca2) # Creating a pandas dataframe\n",
    "\n",
    "# Setting up the column names\n",
    "X_pca2.columns = ['x','y','target']\n",
    "y = X_pca2.groupby('target')\n",
    "\n",
    "# Creating a plot \n",
    "figure, axes = plt.subplots()\n",
    "axes.margins(0.05)\n",
    "\n",
    "for i, j in y:\n",
    "    axes.plot(j.x, j.y, marker='<', linestyle='', ms=7, label=i)\n",
    "    axes.set_title(\"PCA shows Iris-setosa is linearly separable from Iris-versicolor and Iris-virginica\")\n",
    "axes.legend()\n",
    "plt.xlabel(\"Principal component 1\")\n",
    "plt.ylabel(\"Principal component 2\")\n",
    "plt.show()\n"
   ]
  },
  {
   "cell_type": "markdown",
   "metadata": {},
   "source": [
    "We can clearly see that  Iris-setosa is linearly separable from Iris-versicolor and Iris-virginica"
   ]
  },
  {
   "cell_type": "markdown",
   "metadata": {},
   "source": [
    "# II B"
   ]
  },
  {
   "cell_type": "markdown",
   "metadata": {},
   "source": [
    "In this task we are going to design a multiclass perceptron and then test it for accuracy on 3 types of data:\n",
    "\n",
    "    1) The original data\n",
    "    2) Data comprised of 2 top PCs\n",
    "    3) Data comprised of all 4 PCs\n"
   ]
  },
  {
   "cell_type": "markdown",
   "metadata": {},
   "source": [
    "### Multiclass perceptron"
   ]
  },
  {
   "cell_type": "code",
   "execution_count": 206,
   "metadata": {},
   "outputs": [],
   "source": [
    "from sklearn.utils import shuffle\n",
    "\n",
    "class MulticlassPerceptron():\n",
    "    \n",
    "    \n",
    "    def __init__(self, n_class=3, iterations=50):\n",
    "    # This function initializes the number of classes and iterations.\n",
    "        self.n_class = n_class\n",
    "        self.iterations = iterations\n",
    "\n",
    "    def weights(self):\n",
    "    # This function initializes the weight matrix with rows equal to the number of classes and columns equal to the number of features\n",
    "        self.weights = np.zeros((self.n_class, self.n_features+1))\n",
    "    \n",
    "    def fit(self, x, y):\n",
    "    # This function iterates through the dataset until there are no errors and the weight matrix is in its \"final\" form        \n",
    "        self.n_features = x.shape[1] # Setting n_features equal to the width of the dataset x       \n",
    "        self.weights() # Initializing the weights matrix        \n",
    "        x = np.append(x, np.ones((len(x), 1)), axis=1) # Adding a bias column of 1's to the dataset        \n",
    "        for i in range(self.iterations): \n",
    "            update = self.train(x, y)\n",
    "            if not update:\n",
    "                update=update\n",
    "\n",
    "    def train(self, x, y):\n",
    "    # This function updates the weight matrix if error is 0. If the weight is updated, the functions returns True, and False otherwise      \n",
    "        update = False # Default value of update is False\n",
    "        # A loop to iterate through the dataset in order to update the weights. Since our method of computing loss is the Softmax function defined in lecture 14, we want our prediction to be the maximum index of the value  W.x_i can take. So for example if w_0.x_i or w_1.x_i or w_2.x_i is the max value, then the ourput is 0 or 1 or 2 respectively.\n",
    "        # Every time we train the weights on a randomly shuffled dataset\n",
    "        x, y = shuffle(x, y)\n",
    "        for row, target in zip(x, y):\n",
    "                prediction = np.argmax(np.dot(self.weights, row))\n",
    "                # We check if prediction is equal to target and update \n",
    "                if prediction != target:\n",
    "                    self.weights[prediction] -= row\n",
    "                    self.weights[int(target)] += row\n",
    "                    update =  True\n",
    "        return update\n",
    "\n",
    "    def predict(self, x):\n",
    "    # A function to check the predcition values\n",
    "        # Adding a bias column of 1's to the dataset\n",
    "        x = np.append(x, np.ones((len(x), 1)), axis=1)\n",
    "        prediction = np.array([])\n",
    "        # Iterate throught the dataset and append the predicited value to the \"predciton\" array\n",
    "        for row in x:\n",
    "            res = np.dot(self.weights, row)\n",
    "            prediction = np.append(prediction, np.argmax(res))\n",
    "\n",
    "        return prediction"
   ]
  },
  {
   "cell_type": "markdown",
   "metadata": {},
   "source": [
    "### Predicting using original data and principal components\n"
   ]
  },
  {
   "cell_type": "markdown",
   "metadata": {},
   "source": [
    "We are now going to test our multiclass perceptron on our 3 different datasets decribed above. But we will first transform the data that was used in task 1. "
   ]
  },
  {
   "cell_type": "code",
   "execution_count": 207,
   "metadata": {},
   "outputs": [],
   "source": [
    "# Transforming the data to be used for classifying with 2 principal components\n",
    "PCA_data2=X_pca2.to_numpy() # Transforming the dataset X_pca2 from task A to a numpy array\n",
    "\n",
    "# Transforming the targets to numerical values\n",
    "for i in PCA_data2:\n",
    "    if i[-1]==\"Iris-setosa\":\n",
    "        i[-1]=0\n",
    "    elif i[-1]==\"Iris-versicolor\":\n",
    "        i[-1]=1\n",
    "    elif i[-1]==\"Iris-virginica\":\n",
    "        i[-1]=2\n",
    "#Transforming the data to type \"float\"\n",
    "pca_y=PCA_data2[:,-1].astype(np.float)\n",
    "pca_X2=PCA_data2[:,:-1].astype(np.float)\n",
    "\n",
    "\n",
    "\n",
    "# Transforming the data to be used for classifying with 4 principal components\n",
    "# Procedures from task A to extract the four principle components\n",
    "eigVec4 = eigVec[:,:4] \n",
    "X_trans = df_m.dot(eigVec4)\n",
    "X_pca4 = np.hstack((X_trans, target))\n",
    "X_pca4 = pd.DataFrame(X_pca4)\n",
    "\n",
    "PCA_data4=X_pca4.to_numpy() # Transforming the dataset X_pca4 to a numpy array\n",
    "\n",
    "pca_X4=PCA_data4[:,:-1].astype(np.float) #Transforming the data to type \"float\""
   ]
  },
  {
   "cell_type": "markdown",
   "metadata": {},
   "source": [
    "We will now build a function which calculates the average accuracy of 200 perceptrons fitted to the same data. Note that the singular accuracy taken from one fit is the accuracy attained at the 50th iteration."
   ]
  },
  {
   "cell_type": "code",
   "execution_count": 208,
   "metadata": {},
   "outputs": [],
   "source": [
    "def accuracy(X_tr,y_tr,X_te,y_te):\n",
    "    # A function which will calculate the accuracy of the predictions of the Perceptron\n",
    "    \"\"\"\n",
    "    Arguments:\n",
    "        X_tr: The training subset which contains features\n",
    "        y_tr: The training subset which contains targets\n",
    "        X_te: The testing subset which contains features\n",
    "        y_te: The testing subset which contains targets\n",
    "    \"\"\"    \n",
    "    accuracy=0 # Initializing the accuracy to 0 \n",
    "    for i in range(200):\n",
    "        p = MulticlassPerceptron(n_class=3) # Initialzing the Perceptron\n",
    "        p.fit(X_tr, y_tr) # Fitting the Perceptron model onto the training data\n",
    "        # We calculate the accuracy per 1 fit, and add it to the next accuracy so that at the end we take the average accuracy of all single accuracies.\n",
    "        # Accuracy is calculated by summing up all the correctly predicted values and dividing by all values.\n",
    "        accuracy+=(len(y_te)-len(np.where(p.predict(X_te) != y_te)[0]))/len(y_te)*100 \n",
    "    total_accuracy=accuracy/200 # We calculate the average accuracy\n",
    "    return total_accuracy"
   ]
  },
  {
   "cell_type": "markdown",
   "metadata": {},
   "source": [
    "We are now going to calculate the accuracy of the Perceptron using the original dataset to classify our targets:"
   ]
  },
  {
   "cell_type": "code",
   "execution_count": 209,
   "metadata": {
    "scrolled": true
   },
   "outputs": [
    {
     "name": "stdout",
     "output_type": "stream",
     "text": [
      "Accuracy of the Multiclass perceptron with the original data is 91.93%.\n"
     ]
    }
   ],
   "source": [
    "# We split the dataset into training and testing subsets, using the train_test_split method from the sklearn package\n",
    "from sklearn.model_selection import train_test_split\n",
    "X_train, X_test, y_train, y_test = train_test_split(X, pca_y, test_size = 0.2, random_state=42)\n",
    "\n",
    "# Calculating the accuracy\n",
    "print(\"Accuracy of the Multiclass perceptron with the original data is \"+\"{:0.2f}\".format(accuracy(X_train,y_train,X_test,y_test))+\"%.\")"
   ]
  },
  {
   "cell_type": "markdown",
   "metadata": {},
   "source": [
    "Now we are going to classify the data in the 2d subspace defined by PCA:"
   ]
  },
  {
   "cell_type": "code",
   "execution_count": 210,
   "metadata": {
    "scrolled": true
   },
   "outputs": [
    {
     "name": "stdout",
     "output_type": "stream",
     "text": [
      "Accuracy of the Multiclass Perceptron using 2 principal components is 93.78%.\n"
     ]
    }
   ],
   "source": [
    "# Splitting the data\n",
    "X_train, X_test, y_train, y_test = train_test_split(pca_X2, pca_y, test_size = 0.2, random_state=42)\n",
    "\n",
    "# Calculating the accuracy\n",
    "print(\"Accuracy of the Multiclass Perceptron using 2 principal components is \"+\"{:0.2f}\".format(accuracy(X_train,y_train,X_test,y_test))+\"%.\")"
   ]
  },
  {
   "cell_type": "markdown",
   "metadata": {},
   "source": [
    "We are now going to use all four principal components:"
   ]
  },
  {
   "cell_type": "code",
   "execution_count": 211,
   "metadata": {},
   "outputs": [
    {
     "name": "stdout",
     "output_type": "stream",
     "text": [
      "Accuracy of the Multiclass Perceptron using 4 principal components is 97.70%.\n"
     ]
    }
   ],
   "source": [
    "# Splitting the data\n",
    "X_train, X_test, y_train, y_test = train_test_split(pca_X4, pca_y, test_size = 0.2, random_state=42)\n",
    "\n",
    "# Calculating the accuracy\n",
    "print(\"Accuracy of the Multiclass Perceptron using 4 principal components is \"+\"{:0.2f}\".format(accuracy(X_train,y_train,X_test,y_test))+\"%.\")"
   ]
  },
  {
   "cell_type": "markdown",
   "metadata": {},
   "source": [
    "We can clearly see that the accuracy is better when we classify using the principal components. Moreover, the accuracy improves when including more principle components. This can be explained by the fact that every increment of princiapl components explains more variance. Although more principal components does not mean necessarily better accuracy, as you will see below."
   ]
  },
  {
   "cell_type": "markdown",
   "metadata": {},
   "source": [
    "# II C"
   ]
  },
  {
   "cell_type": "markdown",
   "metadata": {},
   "source": [
    "In this task we are going to attempt to classify the data using a radial basis function Kernel, with which we are going to try to attain higher accuracy. We are going to need to create a non-linear version of PCA to project the data onto a high-dimensional subspace, by computing a nomalized Kernel matrix. We will then proceed to use that matrix as our dataset to classify the data by finding the most optimal parameters using a grid search."
   ]
  },
  {
   "cell_type": "markdown",
   "metadata": {},
   "source": [
    "### Computing the kernel matrix"
   ]
  },
  {
   "cell_type": "markdown",
   "metadata": {},
   "source": [
    "We are now going to build a function which computes a normalized Kernel matrix."
   ]
  },
  {
   "cell_type": "code",
   "execution_count": 212,
   "metadata": {},
   "outputs": [],
   "source": [
    "from scipy import exp\n",
    "from scipy.linalg import eigh\n",
    "from scipy.spatial.distance import pdist, squareform\n",
    "\n",
    "\n",
    "def kernel_pca(X, gamma, n_components):\n",
    "    \"\"\"\n",
    "    Arguments:\n",
    "        X: A MxN dataset as NumPy array where the samples are stored as rows (M),\n",
    "           and the attributes defined as columns (N).\n",
    "        gamma: A free parameter (coefficient) for the RBF kernel.\n",
    "        n_components: The number of components to be returned.\n",
    "\n",
    "    \"\"\"\n",
    "    # We compute ||x_i-x_j||^2 for all i<j<N, where N is the number of original observations and then we convert the vector-form distance vector to a square form distance matrix. (If we have N observations, we'll have an NxN matrix.)\n",
    "    matrix_dist = squareform(pdist(X, 'sqeuclidean'))\n",
    "    \n",
    "    # Computing the NxN kernel matrix.\n",
    "    K = exp(-gamma * matrix_dist)\n",
    "\n",
    "    # Centering the symmetric NxN kernel matrix.\n",
    "    N = K.shape[0]\n",
    "    A = np.ones((N,N))/N\n",
    "    K = K - A.dot(K) - K.dot(A) + A.dot(K).dot(A)\n",
    "    \n",
    "    # Computing eigenvalues and eigenvectors for the normalized matrix K\n",
    "    eigVal, eigVec = eigh(K)\n",
    "\n",
    "    # Computing PCc for the normalized matrix K\n",
    "    K_pca = np.column_stack((eigVec[:,-i] for i in range(1,n_components+1)))\n",
    "\n",
    "    return K_pca\n",
    "\n"
   ]
  },
  {
   "cell_type": "markdown",
   "metadata": {},
   "source": [
    "### Grid search"
   ]
  },
  {
   "cell_type": "markdown",
   "metadata": {},
   "source": [
    "To find the most optimal parameters, we will do a grid search. The grid search will iterate through every combination of gamma and the number of PCs and find the smallest amount of PCs (and then the smallest corresponding Gamma) which attain the best accuracy."
   ]
  },
  {
   "cell_type": "markdown",
   "metadata": {},
   "source": [
    "We will now calculate the Gamma range for our grid search."
   ]
  },
  {
   "cell_type": "code",
   "execution_count": 232,
   "metadata": {},
   "outputs": [
    {
     "name": "stdout",
     "output_type": "stream",
     "text": [
      "0.15911279272510853\n",
      "3.6562893051100307\n",
      "Gamma range is: [0.15911279272510853, 3.6562893051100307]\n"
     ]
    }
   ],
   "source": [
    "X_centred=X_centred.to_numpy() # Transforming X_centred to numpy\n",
    "\n",
    "# Calculating the variances of the features\n",
    "var_list=[]\n",
    "for i in range(X_centred.shape[1]):\n",
    "    c=np.var(X_centred[:,i])\n",
    "    var_list.append(c)\n",
    "    \n",
    "# Getting the minimum and maximum variance\n",
    "min_var=min(var_list)\n",
    "max_var=max(var_list)\n",
    "\n",
    "# Calculating minimum and maximum gamma\n",
    "gamma_min=1/(2*(max_var+0.05))\n",
    "print(gamma_min)\n",
    "gamma_max=1/(2*(min_var-0.05))\n",
    "print(gamma_max)\n",
    "\n",
    "# Setting the gamma range\n",
    "gamma_range=[gamma_min,gamma_max]\n",
    "print(\"Gamma range is: \"+str(gamma_range))"
   ]
  },
  {
   "cell_type": "markdown",
   "metadata": {},
   "source": [
    "We will now do a grid search to search for the best combination of PC's and gamma. We define our accuracy function to return the average of 5 accuracies for efficiency purposes."
   ]
  },
  {
   "cell_type": "code",
   "execution_count": 237,
   "metadata": {
    "scrolled": false
   },
   "outputs": [],
   "source": [
    "import warnings\n",
    "warnings.filterwarnings(\"ignore\", category=DeprecationWarning)\n",
    "warnings.filterwarnings(\"ignore\", category=FutureWarning)\n",
    "\n",
    "def accuracy(X_tr,y_tr,X_te,y_te):\n",
    "    accuracy=0\n",
    "    for i in range(5):\n",
    "        p = MulticlassPerceptron(n_class=3)\n",
    "        p.fit(X_tr, y_tr)\n",
    "        accuracy+=(len(y_te)-len(np.where(p.predict(X_te) != y_te)[0]))/len(y_te)*100\n",
    "    total_accuracy=accuracy/5\n",
    "    return total_accuracy\n",
    "\n",
    "def gridSearch(X,y,gamma_range):\n",
    "    \"\"\"\n",
    "    Implementing a grid search to find the best combination of gamma and number of components.\n",
    "    \n",
    "    Input:\n",
    "        1) X - Dataset from which we compute the normalized matrix K with the RBF kernel \n",
    "        2) gamma_range - an interval from which we will choose our gamma's. The interval is equal to\n",
    "        [gamma_min,gamma_max], where gamma_min and gamma_max are equal to the specified values in CW specification\n",
    "        3) increment\n",
    "    \n",
    "    \"\"\"\n",
    "    # As per CW specifications, we define the increment to be 0.1 \n",
    "    increment=0.1\n",
    "    max_pcas=X.shape[0] # Setting our maximum value of Principal components to loop through to be the length of the dataset\n",
    "    gamma=min(gamma_range) # Initializing gamma to the minimum value from the range\n",
    "    hm_dict=dict(gamma=[],n_pc=[],acc=[]) # Creating a dictionary for our heatmap\n",
    "    # Double loop to go through every combination of parameters and append the accuracies to the dictionary with their corresponding hyperparameters\n",
    "    while gamma<=max(gamma_range):\n",
    "        for n_pca in range(5,max_pcas+1):\n",
    "            hm_dict['gamma'].append(\"{:0.2f}\".format(gamma))\n",
    "            hm_dict['n_pc'].append(n_pca)\n",
    "            K=kernel_pca(X,gamma,n_pca)\n",
    "            X_train, X_test, y_train, y_test = train_test_split(K, y, test_size = 0.2, random_state=42)\n",
    "            accu=accuracy(X_train,y_train,X_test,y_test)\n",
    "            hm_dict['acc'].append(float(\"{:0.2f}\".format(accu)))\n",
    "        gamma+=increment\n",
    "    # Here i'm going to create a list of combinations which get accuracy 100%, so that later on I can set the minimum value of that list to be my best combination of hyperparameters\n",
    "    combinations=[]\n",
    "    for i,k in enumerate(hm_dict['acc']):\n",
    "        if k==100:\n",
    "            combinations.append([float(hm_dict['gamma'][i]),float(hm_dict['n_pc'][i])])\n",
    "\n",
    "    best_combination=min(combinations)\n",
    "    return hm_dict,best_combination\n",
    "    \n",
    "    \n",
    "heat_dict,best_param=gridSearch(X,pca_y,gamma_range)   \n",
    "\n"
   ]
  },
  {
   "cell_type": "code",
   "execution_count": 238,
   "metadata": {},
   "outputs": [
    {
     "name": "stdout",
     "output_type": "stream",
     "text": [
      "The best Gamma and number of principle components combination is: \n",
      "Gamma= 0.16 and number of PCs = 7.0\n"
     ]
    }
   ],
   "source": [
    "print(\"The best Gamma and number of principle components combination is: \\nGamma= \"+str(best_param[0])+\" and number of PCs = \"+str(best_param[1]))"
   ]
  },
  {
   "cell_type": "markdown",
   "metadata": {},
   "source": [
    "We have chosen the minimal number of PCs and gamma combination which yielded the highest accuracy. \n",
    "\n",
    "We will now plot a heatmap representing the accuracy of each combination. The color of each cell indicates the accuracy attained by each combination. (red: minimum accuracy, light yellow: maximum accuracy)."
   ]
  },
  {
   "cell_type": "code",
   "execution_count": 239,
   "metadata": {},
   "outputs": [
    {
     "data": {
      "text/plain": [
       "Text(33.0, 0.5, 'Gamma')"
      ]
     },
     "execution_count": 239,
     "metadata": {},
     "output_type": "execute_result"
    },
    {
     "data": {
      "image/png": "[encoded data removed]",
      "text/plain": [
       "<Figure size 432x288 with 2 Axes>"
      ]
     },
     "metadata": {
      "needs_background": "light"
     },
     "output_type": "display_data"
    }
   ],
   "source": [
    "import matplotlib.pyplot as plt \n",
    "import seaborn as sns\n",
    "\n",
    "# Making the dictionary returned from our gridSearch function into a dataset which we'll plot\n",
    "df = pd.DataFrame(heat_dict,columns=['gamma','n_pc','acc'])\n",
    "df=df.pivot('gamma','n_pc','acc')\n",
    "\n",
    "# Creating the heatmap\n",
    "ax=sns.heatmap(df)\n",
    "plt.title('Accuracy decreases as number of PCs increases', fontsize = 20)\n",
    "plt.xlabel('Number of Principal Components', fontsize = 15)\n",
    "plt.ylabel('Gamma', fontsize = 15)"
   ]
  },
  {
   "cell_type": "markdown",
   "metadata": {},
   "source": [
    "We can see that as the number of principal components approaches the range after 60, accuracy starts to decrease. This can be explained by the fact that as the dimensions increase, the perceptron finds it harder to converge, since linear separability of the data becomes more scarce."
   ]
  }
 ],
 "metadata": {
  "kernelspec": {
   "display_name": "Python 3",
   "language": "python",
   "name": "python3"
  },
  "language_info": {
   "codemirror_mode": {
    "name": "ipython",
    "version": 3
   },
   "file_extension": ".py",
   "mimetype": "text/x-python",
   "name": "python",
   "nbconvert_exporter": "python",
   "pygments_lexer": "ipython3",
   "version": "3.8.3"
  }
 },
 "nbformat": 4,
 "nbformat_minor": 4
}
